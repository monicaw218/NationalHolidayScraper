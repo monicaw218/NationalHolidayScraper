{
 "cells": [
  {
   "cell_type": "code",
   "execution_count": 11,
   "metadata": {
    "collapsed": true
   },
   "outputs": [],
   "source": [
    "import requests\n",
    "from bs4 import BeautifulSoup as bs\n",
    "from datetime import datetime"
   ]
  },
  {
   "cell_type": "code",
   "execution_count": 12,
   "metadata": {
    "collapsed": true
   },
   "outputs": [],
   "source": [
    "this_month = datetime.today().strftime(\"%B\")\n",
    "this_day = datetime.today().day\n",
    "URL = 'https://nationaldaycalendar.com/' + this_month.lower()\n",
    "x = requests.get(URL)\n",
    "soup = bs(x.text, 'html.parser')"
   ]
  },
  {
   "cell_type": "code",
   "execution_count": 13,
   "metadata": {
    "collapsed": false
   },
   "outputs": [
    {
     "name": "stdout",
     "output_type": "stream",
     "text": [
      "January 2 is:\n",
      "National Buffet Day\n",
      "National Cream Puff Day\n",
      "National Personal Trainer Awareness Day\n",
      "National Science Fiction Day\n",
      "\n"
     ]
    },
    {
     "data": {
      "text/plain": [
       "''"
      ]
     },
     "execution_count": 13,
     "metadata": {},
     "output_type": "execute_result"
    }
   ],
   "source": [
    "blurb_container = soup.body.findAll('div', {'class': 'et_pb_blurb_container'})\n",
    "current_header = this_month + ' ' + str(this_day)\n",
    "relevant_section = [line for line in blurb_container if current_header in line.find('h4').text]\n",
    "print(current_header + ' is:')\n",
    "#for section in relevant_section[0].findAll('li', {'style': 'text-align: left;'}):\n",
    "for section in relevant_section[0].findAll('li'):\n",
    "    print(section.text)\n",
    "input()"
   ]
  }
 ],
 "metadata": {
  "anaconda-cloud": {},
  "kernelspec": {
   "display_name": "Python [Root]",
   "language": "python",
   "name": "Python [Root]"
  },
  "language_info": {
   "codemirror_mode": {
    "name": "ipython",
    "version": 3
   },
   "file_extension": ".py",
   "mimetype": "text/x-python",
   "name": "python",
   "nbconvert_exporter": "python",
   "pygments_lexer": "ipython3",
   "version": "3.5.4"
  }
 },
 "nbformat": 4,
 "nbformat_minor": 1
}
